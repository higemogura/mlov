{
 "cells": [
  {
   "cell_type": "markdown",
   "metadata": {},
   "source": [
    "# ニューラルネットワークによるアヤメの分類(keras)"
   ]
  },
  {
   "cell_type": "code",
   "execution_count": null,
   "metadata": {},
   "outputs": [],
   "source": [
    "import numpy as np\n",
    "np.set_printoptions(suppress=True) \n",
    "np.random.seed(3)\n",
    "\n",
    "from keras.models import Sequential\n",
    "from keras.layers import Dense, Activation\n",
    "from keras import optimizers\n",
    "\n",
    "# 環境の都合上GPUを無効化\n",
    "import keras\n",
    "import tensorflow as tf\n",
    "import keras.backend as K\n",
    "K.tensorflow_backend.set_session(tf.Session(config=tf.ConfigProto(device_count = {'GPU': 0})))\n",
    "\n",
    "log_dir = 'tflog'\n",
    "import keras.callbacks\n",
    "tb_cb = keras.callbacks.TensorBoard(log_dir=log_dir, \n",
    "histogram_freq=1, write_graph=True, write_images=True)\n"
   ]
  },
  {
   "cell_type": "code",
   "execution_count": null,
   "metadata": {},
   "outputs": [],
   "source": [
    "# データの読込\n",
    "from sklearn.datasets import load_iris\n",
    "from sklearn.model_selection import train_test_split\n",
    "iris = load_iris()\n",
    "\n",
    "# 入力変数と説明変数の切り分け\n",
    "X = iris.data.astype(np.float32)\n",
    "Y = iris.target.flatten()\n",
    "\n",
    "# 訓練データと検証データに分割(70%を訓練用に使用)\n",
    "train_X, test_X, train_Y, test_Y = train_test_split(X, Y, train_size=0.7, test_size=0.3)"
   ]
  },
  {
   "cell_type": "code",
   "execution_count": null,
   "metadata": {},
   "outputs": [],
   "source": [
    "# モデルの構成\n",
    "model = Sequential()\n",
    "model.add(Dense(30, input_dim=4))\n",
    "model.add(Activation('relu'))\n",
    "model.add(Dense(20, input_dim=30))\n",
    "model.add(Dense(3, input_dim=20))\n",
    "model.add(Activation('softmax')) \n",
    "sgd = optimizers.SGD(lr=0.01)\n",
    "model.compile(optimizer='sgd' ,loss='sparse_categorical_crossentropy',metrics=['accuracy'])\n",
    "model.summary()"
   ]
  },
  {
   "cell_type": "code",
   "execution_count": null,
   "metadata": {},
   "outputs": [],
   "source": [
    "epoch = 100\n",
    "batchsize = 50\n",
    "#model.fit(features, targets, nb_epoch=epoch, batch_size=batchsize)\n",
    "result = model.fit(train_X, train_Y, epochs=epoch, batch_size=batchsize,validation_data=(train_X, train_Y), callbacks=[tb_cb])"
   ]
  },
  {
   "cell_type": "code",
   "execution_count": null,
   "metadata": {},
   "outputs": [],
   "source": [
    "# モデル精度とロス率の表示(検証データ)\n",
    "score = model.evaluate(test_X, test_Y, verbose=0)\n",
    "print('Test accuracy:', score[1])\n",
    "print('Test loss:', score[0])"
   ]
  },
  {
   "cell_type": "code",
   "execution_count": null,
   "metadata": {
    "scrolled": true
   },
   "outputs": [],
   "source": [
    "# モデル精度の可視化\n",
    "%matplotlib inline\n",
    "import matplotlib.pyplot as plt\n",
    "from pylab import rcParams\n",
    "rcParams['figure.figsize'] = 15,5\n",
    "\n",
    "plt.plot(range(1, epoch+1), result.history['acc'], label=\"training\")\n",
    "plt.plot(range(1, epoch+1), result.history['val_acc'], label=\"validation\")\n",
    "plt.xlabel('Epochs')\n",
    "plt.ylabel('Accuracy')\n",
    "plt.title('Accuracy')\n",
    "plt.legend()\n",
    "plt.show()\n",
    "\n",
    "plt.plot(range(1, epoch+1), result.history['loss'], label=\"training\")\n",
    "plt.plot(range(1, epoch+1), result.history['val_loss'], label=\"validation\")\n",
    "plt.xlabel('Epochs')\n",
    "plt.ylabel('Loss')\n",
    "plt.title('Loss')\n",
    "plt.legend()\n",
    "plt.show()"
   ]
  },
  {
   "cell_type": "code",
   "execution_count": null,
   "metadata": {},
   "outputs": [],
   "source": [
    "# 元データの150件目(X[149])でクラスごとの分類確率を表示[Setosa, Versicolor, Virginica]\n",
    "x = np.expand_dims(X[ 149 ], axis=0)\n",
    "pred = model.predict(x)\n",
    "print(pred)"
   ]
  },
  {
   "cell_type": "code",
   "execution_count": null,
   "metadata": {},
   "outputs": [],
   "source": [
    "# 元データの150件目(X[149])で分類結果を表示[0=Setosa,1=Versicolor, 2=Virginica]\n",
    "x = np.expand_dims(X[ 149 ], axis=0)\n",
    "pred = model.predict_classes(x)\n",
    "print(pred)"
   ]
  },
  {
   "cell_type": "code",
   "execution_count": null,
   "metadata": {},
   "outputs": [],
   "source": [
    "# 元データの150件目(Y[149])の正解を表示(0=Setosa,1=Versicolor, 2=Virginica)\n",
    "print ([Y[149]])"
   ]
  },
  {
   "cell_type": "code",
   "execution_count": null,
   "metadata": {},
   "outputs": [],
   "source": [
    "#  参考: 手動で値設定する方法\n",
    "x = np.expand_dims([ 5.9, 3. , 5.1, 1.8 ], axis=0)\n",
    "pred = model.predict_classes(x)\n",
    "print(pred)"
   ]
  },
  {
   "cell_type": "code",
   "execution_count": null,
   "metadata": {},
   "outputs": [],
   "source": [
    "# Jupyter上でカーネルリセット&GPUメモリ解放\n",
    "from IPython.display import display_html\n",
    "def restartkernel() :\n",
    "    display_html(\"<script>Jupyter.notebook.kernel.restart()</script>\",raw=True)\n",
    "restartkernel()"
   ]
  },
  {
   "cell_type": "code",
   "execution_count": null,
   "metadata": {},
   "outputs": [],
   "source": []
  },
  {
   "cell_type": "code",
   "execution_count": null,
   "metadata": {},
   "outputs": [],
   "source": []
  }
 ],
 "metadata": {
  "kernelspec": {
   "display_name": "Python [default]",
   "language": "python",
   "name": "python3"
  },
  "language_info": {
   "codemirror_mode": {
    "name": "ipython",
    "version": 3
   },
   "file_extension": ".py",
   "mimetype": "text/x-python",
   "name": "python",
   "nbconvert_exporter": "python",
   "pygments_lexer": "ipython3",
   "version": "3.5.5"
  }
 },
 "nbformat": 4,
 "nbformat_minor": 2
}
