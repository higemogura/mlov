{
 "cells": [
  {
   "cell_type": "markdown",
   "metadata": {},
   "source": [
    "# ロジスティック回帰によるアヤメの分類"
   ]
  },
  {
   "cell_type": "code",
   "execution_count": null,
   "metadata": {},
   "outputs": [],
   "source": [
    "import numpy as np\n",
    "import pandas as pd\n",
    "from sklearn.linear_model import LogisticRegression\n",
    "np.set_printoptions(suppress=True) "
   ]
  },
  {
   "cell_type": "code",
   "execution_count": null,
   "metadata": {},
   "outputs": [],
   "source": [
    "# データの読込と概要の表示\n",
    "from sklearn import  datasets\n",
    "iris = datasets.load_iris()\n",
    "print (iris.DESCR)"
   ]
  },
  {
   "cell_type": "code",
   "execution_count": null,
   "metadata": {},
   "outputs": [],
   "source": [
    "# pandas形式で先頭10件分を表示\n",
    "df = pd.DataFrame(iris.data)\n",
    "df.columns = iris.feature_names\n",
    "df['class'] = iris.target\n",
    "df.head(10)\n",
    "\n",
    "# sepal length (cm):花弁の長さ\n",
    "# sepal width (cm):花弁の幅\n",
    "# petal length (cm):がく片の長さ\n",
    "# petal width (cm):がく片の幅\n",
    "# class: 品種:0=Setosa,1=Versicolor, 2=Virginica"
   ]
  },
  {
   "cell_type": "code",
   "execution_count": null,
   "metadata": {},
   "outputs": [],
   "source": [
    "# 入力変数と説明変数の切り分け\n",
    "X = iris.data  \n",
    "Y = iris.target"
   ]
  },
  {
   "cell_type": "code",
   "execution_count": null,
   "metadata": {},
   "outputs": [],
   "source": [
    "# ロジスティック回帰分析の実行\n",
    "clf = LogisticRegression()\n",
    "clf.fit(X, Y)"
   ]
  },
  {
   "cell_type": "code",
   "execution_count": null,
   "metadata": {},
   "outputs": [],
   "source": [
    "# 予測精度の確認\n",
    "clf.score(X,Y)"
   ]
  },
  {
   "cell_type": "code",
   "execution_count": null,
   "metadata": {},
   "outputs": [],
   "source": [
    "# 品種ごとの切片の表示([Setosa,Versicolor, Virginica]) ※この分析では3つの品種についての分類を行うため切片は3つ存在\n",
    "clf.intercept_"
   ]
  },
  {
   "cell_type": "code",
   "execution_count": null,
   "metadata": {},
   "outputs": [],
   "source": [
    "# 入力変数ごとの偏係数を表示([sepal length, sepal width, petal length, petal width])\n",
    "# ※この分析では3つの品種についての分類を行うため偏係数も品種ごとに存在(表示順序: Setosa,Versicolor, Virginica]\n",
    "clf.coef_"
   ]
  },
  {
   "cell_type": "code",
   "execution_count": null,
   "metadata": {},
   "outputs": [],
   "source": [
    "# 元データの150件目(X[149])で各クラスごとの分類確率を表示([Setosa,Versicolor, Virginica])\n",
    "print (clf.predict_proba([X[149]]))"
   ]
  },
  {
   "cell_type": "code",
   "execution_count": null,
   "metadata": {},
   "outputs": [],
   "source": [
    "# 元データの150件目(X[149])で分類結果を表示(0=Setosa,1=Versicolor, 2=Virginica)\n",
    "print (clf.predict([X[149]]))"
   ]
  },
  {
   "cell_type": "code",
   "execution_count": null,
   "metadata": {},
   "outputs": [],
   "source": [
    "# 元データの150件目(Y[149])の正解を表示(0=Setosa,1=Versicolor, 2=Virginica)\n",
    "print ([Y[149]])"
   ]
  },
  {
   "cell_type": "code",
   "execution_count": null,
   "metadata": {},
   "outputs": [],
   "source": [
    "# 参考: 手動で値設定する方法\n",
    "print (clf.predict([[5.1, 3.5, 1.4, 0.2]]))\n",
    "print (clf.predict_proba([[5.1, 3.5, 1.4, 0.2]]))"
   ]
  },
  {
   "cell_type": "code",
   "execution_count": null,
   "metadata": {},
   "outputs": [],
   "source": []
  },
  {
   "cell_type": "code",
   "execution_count": null,
   "metadata": {},
   "outputs": [],
   "source": []
  },
  {
   "cell_type": "code",
   "execution_count": null,
   "metadata": {},
   "outputs": [],
   "source": []
  }
 ],
 "metadata": {
  "kernelspec": {
   "display_name": "Python [default]",
   "language": "python",
   "name": "python3"
  },
  "language_info": {
   "codemirror_mode": {
    "name": "ipython",
    "version": 3
   },
   "file_extension": ".py",
   "mimetype": "text/x-python",
   "name": "python",
   "nbconvert_exporter": "python",
   "pygments_lexer": "ipython3",
   "version": "3.5.5"
  }
 },
 "nbformat": 4,
 "nbformat_minor": 2
}
