{
 "cells": [
  {
   "cell_type": "code",
   "execution_count": null,
   "metadata": {},
   "outputs": [],
   "source": [
    "# Pandas Remote Data Access による株価取得とFaceBook Prophetによる株価予測\n",
    "\n",
    "# https://pandas-datareader.readthedocs.io/en/latest/remote_data.html\n",
    "# https://facebook.github.io/prophet/docs/quick_start.html\n",
    "# ! pip install fbprophet"
   ]
  },
  {
   "cell_type": "code",
   "execution_count": null,
   "metadata": {},
   "outputs": [],
   "source": [
    "%matplotlib inline\n",
    "import pandas as pd\n",
    "pd.core.common.is_list_like = pd.api.types.is_list_like\n",
    "import numpy as np\n",
    "import pandas as pd\n",
    "import matplotlib.pyplot as plt\n",
    "import pandas_datareader.data as web\n",
    "import datetime\n",
    "from fbprophet import Prophet"
   ]
  },
  {
   "cell_type": "code",
   "execution_count": null,
   "metadata": {},
   "outputs": [],
   "source": [
    "# iexから株価を取得 シンボルは下記URL参照\n",
    "# https://iextrading.com/trading/eligible-symbols/\n",
    "\n",
    "symbol = \"NVDA\"\n",
    "\n",
    "# 株価の取得期間 (情報ソースによって期限が異なる。IEXからは過去5年分までOK)\n",
    "\n",
    "date_st = datetime.datetime(2016, 1, 1)\n",
    "date_fn = datetime.datetime(2018, 3, 31)\n",
    "\n",
    "df1 = web.DataReader(symbol, 'iex', date_st, date_fn)"
   ]
  },
  {
   "cell_type": "code",
   "execution_count": null,
   "metadata": {},
   "outputs": [],
   "source": [
    "# 取得データの表示\n",
    "df1.tail(10)"
   ]
  },
  {
   "cell_type": "code",
   "execution_count": null,
   "metadata": {
    "scrolled": false
   },
   "outputs": [],
   "source": [
    "# prophetに取り込むためにカラム名を修正 「ds」と「y」に変更\n",
    "model = Prophet()\n",
    "data = df1.reset_index().rename(columns={'date': 'ds', 'close': 'y'})\n",
    "model.fit(data)"
   ]
  },
  {
   "cell_type": "code",
   "execution_count": null,
   "metadata": {},
   "outputs": [],
   "source": [
    "# 取得データの最終日から将来の何日分まで予測するかを定義\n",
    "\n",
    "periods = 90\n",
    "\n",
    "future = model.make_future_dataframe(periods=periods)\n",
    "forecast = model.predict(future)\n",
    "forecast.tail()"
   ]
  },
  {
   "cell_type": "code",
   "execution_count": null,
   "metadata": {
    "scrolled": true
   },
   "outputs": [],
   "source": [
    "# 可視化\n",
    "model.plot(forecast)\n",
    "plt.title(symbol)\n",
    "plt.show()"
   ]
  },
  {
   "cell_type": "code",
   "execution_count": null,
   "metadata": {},
   "outputs": [],
   "source": []
  },
  {
   "cell_type": "code",
   "execution_count": null,
   "metadata": {},
   "outputs": [],
   "source": []
  }
 ],
 "metadata": {
  "kernelspec": {
   "display_name": "Python [default]",
   "language": "python",
   "name": "python3"
  },
  "language_info": {
   "codemirror_mode": {
    "name": "ipython",
    "version": 3
   },
   "file_extension": ".py",
   "mimetype": "text/x-python",
   "name": "python",
   "nbconvert_exporter": "python",
   "pygments_lexer": "ipython3",
   "version": "3.5.5"
  }
 },
 "nbformat": 4,
 "nbformat_minor": 2
}
