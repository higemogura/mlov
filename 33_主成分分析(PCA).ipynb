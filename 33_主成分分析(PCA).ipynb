{
 "cells": [
  {
   "cell_type": "code",
   "execution_count": null,
   "metadata": {},
   "outputs": [],
   "source": [
    "%matplotlib inline\n",
    "import matplotlib.pyplot as plt\n",
    "import numpy as np                           \n",
    "from sklearn.decomposition import PCA        \n",
    "from sklearn.preprocessing import StandardScaler              \n",
    "import pandas as pd\n",
    "from pandas import DataFrame,Series\n",
    "\n",
    "np.set_printoptions(suppress=True) "
   ]
  },
  {
   "cell_type": "code",
   "execution_count": null,
   "metadata": {},
   "outputs": [],
   "source": [
    "# データの表示\n",
    "# http://www.idvbook.com/teaching-aid/data-sets/2004-cars-and-trucks-data/\n",
    "df = pd.read_csv(\"car_small2.csv\",delimiter=\",\", encoding=\"shift-jis\")\n",
    "df"
   ]
  },
  {
   "cell_type": "code",
   "execution_count": null,
   "metadata": {
    "scrolled": false
   },
   "outputs": [],
   "source": [
    "# 車名と価格を削除\n",
    "cars = df.iloc[:,3:]\n",
    "cars.head()"
   ]
  },
  {
   "cell_type": "code",
   "execution_count": null,
   "metadata": {},
   "outputs": [],
   "source": [
    "# 正規化の実行\n",
    "scaler = StandardScaler()\n",
    "scaler.fit(cars)\n",
    "sc = scaler.transform(cars)\n",
    "\n",
    "tmp = pd.DataFrame(sc)\n",
    "tmp"
   ]
  },
  {
   "cell_type": "code",
   "execution_count": null,
   "metadata": {},
   "outputs": [],
   "source": [
    "# 第3主成分まで生成\n",
    "pca = PCA(n_components=3,whiten=\"false\")      \n",
    "#pca.fit(cars)\n",
    "transformed = pca.fit_transform(sc)"
   ]
  },
  {
   "cell_type": "code",
   "execution_count": null,
   "metadata": {},
   "outputs": [],
   "source": [
    "# 主成分得点 (次元削減後のデータ)\n",
    "tmp = pd.DataFrame(pca.transform(sc))\n",
    "tmp"
   ]
  },
  {
   "cell_type": "code",
   "execution_count": null,
   "metadata": {},
   "outputs": [],
   "source": [
    "# 主成分毎の寄与率 (データ全体の何割説明できるか)\n",
    "# [0] は第1主成分軸、[1]は第2主成分軸\n",
    "pca.explained_variance_ratio_\n",
    "variance_ratio = pd.DataFrame(pca.explained_variance_ratio_)\n",
    "variance_ratio"
   ]
  },
  {
   "cell_type": "code",
   "execution_count": null,
   "metadata": {},
   "outputs": [],
   "source": [
    "# 累積寄与率 (各主成分の寄与率の合計)\n",
    "format(sum(pca.explained_variance_ratio_))"
   ]
  },
  {
   "cell_type": "code",
   "execution_count": null,
   "metadata": {},
   "outputs": [],
   "source": [
    "# 各主成分の主成分負荷量の値\n",
    "tmp = pd.DataFrame(pca.components_)\n",
    "tmp.head()"
   ]
  },
  {
   "cell_type": "code",
   "execution_count": null,
   "metadata": {},
   "outputs": [],
   "source": [
    "# 固有値（各主成分におけるデータの分散）\n",
    "variance = pd.DataFrame(pca.explained_variance_ )\n",
    "variance"
   ]
  },
  {
   "cell_type": "code",
   "execution_count": null,
   "metadata": {},
   "outputs": [],
   "source": [
    "# PC1,PC2による可視化\n",
    "from pylab import rcParams\n",
    "rcParams['figure.figsize'] = 30,20\n",
    "\n",
    "name = df.iloc[:,0:1].values.flatten()\n",
    "pc1 = transformed[:, 0]\n",
    "pc2 = transformed[:, 1]\n",
    "fin = pd.DataFrame({'name':name, 'pc1':pc1,'pc2':pc2})\n",
    "output = fin.loc[:,['pc1','pc2','name']]\n",
    "a = output.plot.scatter(x='pc1',y='pc2')\n",
    "\n",
    "for k, v in output.iterrows():\n",
    "    a.annotate(v[2], xy=(v[0],v[1]), size=20)\n",
    "plt.grid()"
   ]
  },
  {
   "cell_type": "code",
   "execution_count": null,
   "metadata": {},
   "outputs": [],
   "source": []
  },
  {
   "cell_type": "code",
   "execution_count": null,
   "metadata": {},
   "outputs": [],
   "source": []
  },
  {
   "cell_type": "code",
   "execution_count": null,
   "metadata": {},
   "outputs": [],
   "source": []
  }
 ],
 "metadata": {
  "kernelspec": {
   "display_name": "Python [default]",
   "language": "python",
   "name": "python3"
  },
  "language_info": {
   "codemirror_mode": {
    "name": "ipython",
    "version": 3
   },
   "file_extension": ".py",
   "mimetype": "text/x-python",
   "name": "python",
   "nbconvert_exporter": "python",
   "pygments_lexer": "ipython3",
   "version": "3.5.5"
  }
 },
 "nbformat": 4,
 "nbformat_minor": 2
}
