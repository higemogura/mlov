{
 "cells": [
  {
   "cell_type": "markdown",
   "metadata": {},
   "source": [
    "# サポートベクタマシン"
   ]
  },
  {
   "cell_type": "code",
   "execution_count": null,
   "metadata": {},
   "outputs": [],
   "source": [
    "import numpy as np\n",
    "import pandas as pd\n",
    "import pylab as pl\n",
    "from sklearn import svm\n",
    "np.set_printoptions(suppress=True) "
   ]
  },
  {
   "cell_type": "code",
   "execution_count": null,
   "metadata": {},
   "outputs": [],
   "source": [
    "# データの読込と概要の表示\n",
    "from sklearn import  datasets\n",
    "iris = datasets.load_iris()\n",
    "print (iris.DESCR)"
   ]
  },
  {
   "cell_type": "code",
   "execution_count": null,
   "metadata": {},
   "outputs": [],
   "source": [
    "# pandas形式で先頭10件分を表示\n",
    "df = pd.DataFrame(iris.data)\n",
    "df.columns = iris.feature_names\n",
    "df['class'] = iris.target\n",
    "df.head(10)\n",
    "\n",
    "# sepal length (cm):花弁の長さ\n",
    "# sepal width (cm):花弁の幅\n",
    "# petal length (cm):がく片の長さ\n",
    "# petal width (cm):がく片の幅\n",
    "# class: 品種:0=Setosa,1=Versicolor, 2=Virginica"
   ]
  },
  {
   "cell_type": "code",
   "execution_count": null,
   "metadata": {},
   "outputs": [],
   "source": [
    "# 入力変数と説明変数の切り分け\n",
    "X = iris.data  \n",
    "Y = iris.target"
   ]
  },
  {
   "cell_type": "code",
   "execution_count": null,
   "metadata": {},
   "outputs": [],
   "source": [
    "# SVMによるクラス分類の実行(線形カーネル)\n",
    "clf = svm.SVC(kernel='linear')\n",
    "clf.fit(X, Y)"
   ]
  },
  {
   "cell_type": "code",
   "execution_count": null,
   "metadata": {},
   "outputs": [],
   "source": [
    "# 予測精度の確認\n",
    "clf.score(X,Y)"
   ]
  },
  {
   "cell_type": "code",
   "execution_count": null,
   "metadata": {},
   "outputs": [],
   "source": [
    "# 元データの150件目(X[149])で分類結果を表示(0=Setosa,1=Versicolor, 2=Virginica)\n",
    "print (clf.predict([X[149]]))"
   ]
  },
  {
   "cell_type": "code",
   "execution_count": null,
   "metadata": {},
   "outputs": [],
   "source": [
    "# 元データの150件目(Y[149])の正解を表示(0=Setosa,1=Versicolor, 2=Virginica)\n",
    "print ([Y[149]])"
   ]
  },
  {
   "cell_type": "code",
   "execution_count": null,
   "metadata": {},
   "outputs": [],
   "source": [
    "# RBFカーネルによる非線形SVMの実行と予測精度の確認\n",
    "clf = svm.SVC(kernel='rbf')\n",
    "clf.fit(X, Y)"
   ]
  },
  {
   "cell_type": "code",
   "execution_count": null,
   "metadata": {},
   "outputs": [],
   "source": [
    "# 予測精度の確認\n",
    "clf.score(X,Y)"
   ]
  },
  {
   "cell_type": "code",
   "execution_count": null,
   "metadata": {},
   "outputs": [],
   "source": [
    "# 可視化のために元データの要素数を4から2に削減(主成分分析による次元削減を実行)\n",
    "from sklearn.decomposition import PCA\n",
    "\n",
    "pca = PCA(n_components=2).fit(X)\n",
    "pca_2d = pca.transform(X)\n",
    "\n",
    "# 次元削減されたデータの表示\n",
    "pca_2d"
   ]
  },
  {
   "cell_type": "code",
   "execution_count": null,
   "metadata": {},
   "outputs": [],
   "source": [
    "# 線形SVMによるクラス分類と境界線を表示\n",
    "\n",
    "from pylab import rcParams\n",
    "rcParams['figure.figsize'] = 15,10\n",
    "\n",
    "svmClassifier_2d = svm.LinearSVC().fit(pca_2d, Y)\n",
    "\n",
    "for i in range(0, pca_2d.shape[0]):\n",
    "    if Y[i] == 0:\n",
    "        c1 = pl.scatter(pca_2d[i,0],pca_2d[i,1],c='r', s=50,marker='+')\n",
    "    elif Y[i] == 1:\n",
    "        c2 = pl.scatter(pca_2d[i,0],pca_2d[i,1],c='g', s=50,marker='o')\n",
    "    elif Y[i] == 2:\n",
    "        c3 = pl.scatter(pca_2d[i,0],pca_2d[i,1],c='b', s=50,marker='*')\n",
    "\n",
    "        pl.legend([c1, c2, c3], ['Setosa', 'Versicolor',   'Virginica'])\n",
    "\n",
    "x_min, x_max = pca_2d[:, 0].min() - 1,   pca_2d[:,0].max() + 1\n",
    "y_min, y_max = pca_2d[:, 1].min() - 1,   pca_2d[:, 1].max() + 1\n",
    "xx, yy = np.meshgrid(np.arange(x_min, x_max, .01),   np.arange(y_min, y_max, .01))\n",
    "Z = svmClassifier_2d.predict(np.c_[xx.ravel(),  yy.ravel()])\n",
    "Z = Z.reshape(xx.shape)\n",
    "\n",
    "pl.contour(xx, yy, Z)\n",
    "pl.axis('off')\n",
    "pl.show()"
   ]
  },
  {
   "cell_type": "code",
   "execution_count": null,
   "metadata": {},
   "outputs": [],
   "source": [
    "# モデル精度の表示\n",
    "svmClassifier_2d.score(pca_2d,Y)"
   ]
  },
  {
   "cell_type": "code",
   "execution_count": null,
   "metadata": {},
   "outputs": [],
   "source": [
    "# RBFカーネルによる非線形SVMによるクラス分類と境界線を表示\n",
    "svmClassifier_2d = svm.SVC().fit(pca_2d, Y)\n",
    "\n",
    "for i in range(0, pca_2d.shape[0]):\n",
    "    if Y[i] == 0:\n",
    "        c1 = pl.scatter(pca_2d[i,0],pca_2d[i,1],c='r', s=50,marker='+')\n",
    "    elif Y[i] == 1:\n",
    "        c2 = pl.scatter(pca_2d[i,0],pca_2d[i,1],c='g', s=50,marker='o')\n",
    "    elif Y[i] == 2:\n",
    "        c3 = pl.scatter(pca_2d[i,0],pca_2d[i,1],c='b', s=50,marker='*')\n",
    "\n",
    "        pl.legend([c1, c2, c3], ['Setosa', 'Versicolor',   'Virginica'])\n",
    "\n",
    "x_min, x_max = pca_2d[:, 0].min() - 1,   pca_2d[:,0].max() + 1\n",
    "y_min, y_max = pca_2d[:, 1].min() - 1,   pca_2d[:, 1].max() + 1\n",
    "xx, yy = np.meshgrid(np.arange(x_min, x_max, .01),   np.arange(y_min, y_max, .01))\n",
    "Z = svmClassifier_2d.predict(np.c_[xx.ravel(),  yy.ravel()])\n",
    "Z = Z.reshape(xx.shape)\n",
    "\n",
    "pl.contour(xx, yy, Z)\n",
    "pl.axis('off')\n",
    "pl.show()\n",
    "svmClassifier_2d.score(pca_2d,Y)"
   ]
  },
  {
   "cell_type": "code",
   "execution_count": null,
   "metadata": {},
   "outputs": [],
   "source": [
    "# モデル精度の表示\n",
    "svmClassifier_2d.score(pca_2d,Y)"
   ]
  },
  {
   "cell_type": "code",
   "execution_count": null,
   "metadata": {},
   "outputs": [],
   "source": []
  }
 ],
 "metadata": {
  "kernelspec": {
   "display_name": "Python [default]",
   "language": "python",
   "name": "python3"
  },
  "language_info": {
   "codemirror_mode": {
    "name": "ipython",
    "version": 3
   },
   "file_extension": ".py",
   "mimetype": "text/x-python",
   "name": "python",
   "nbconvert_exporter": "python",
   "pygments_lexer": "ipython3",
   "version": "3.5.5"
  }
 },
 "nbformat": 4,
 "nbformat_minor": 2
}
