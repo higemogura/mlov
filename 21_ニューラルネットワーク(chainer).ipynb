{
 "cells": [
  {
   "cell_type": "markdown",
   "metadata": {},
   "source": [
    "# ニューラルネットワークによるアヤメの分類(chainer)"
   ]
  },
  {
   "cell_type": "code",
   "execution_count": null,
   "metadata": {},
   "outputs": [],
   "source": [
    "import numpy as np\n",
    "np.random.seed(3)\n",
    "\n",
    "import chainer\n",
    "import chainer.functions as F\n",
    "import chainer.links as L\n",
    "from chainer import training, datasets\n",
    "from chainer.training import extensions"
   ]
  },
  {
   "cell_type": "code",
   "execution_count": null,
   "metadata": {},
   "outputs": [],
   "source": [
    "# データの読込\n",
    "from sklearn.datasets import load_iris\n",
    "iris = load_iris()\n",
    "\n",
    "# 入力変数と説明変数の切り分け\n",
    "X = iris.data.astype(np.float32)\n",
    "Y = iris.target.flatten()\n",
    "\n",
    "# 訓練データと検証データに分割(70%を訓練用に使用)\n",
    "dataset = list(zip(X, Y))\n",
    "n_train = int(len(dataset) * 0.7)\n",
    "train, test = chainer.datasets.split_dataset_random(dataset, n_train, seed=1)"
   ]
  },
  {
   "cell_type": "code",
   "execution_count": null,
   "metadata": {},
   "outputs": [],
   "source": [
    "# モデルの構成\n",
    "class NN(chainer.Chain):\n",
    "\n",
    "    def __init__(self):\n",
    "        super().__init__()\n",
    "        with self.init_scope():\n",
    "            self.fc1 = L.Linear(4, 30) \n",
    "            self.fc2 = L.Linear(30, 20) \n",
    "            self.fc3 = L.Linear(20, 3)  \n",
    "\n",
    "    def __call__(self, x):\n",
    "        u1 = self.fc1(x)\n",
    "        z1 = F.relu(u1)\n",
    "        u2 = self.fc2(z1)\n",
    "        z2 = F.relu(u2)\n",
    "        u3 = self.fc3(z2)\n",
    "        \n",
    "        return u3\n",
    "    \n",
    "nn = NN()\n",
    "model = L.Classifier(nn)\n",
    "model.lossfun"
   ]
  },
  {
   "cell_type": "code",
   "execution_count": null,
   "metadata": {},
   "outputs": [],
   "source": [
    "# Optimizerの構成 (バックプロパゲーション)\n",
    "optimizer = chainer.optimizers.SGD()\n",
    "optimizer.setup(model)\n",
    "optimizer.lr"
   ]
  },
  {
   "cell_type": "code",
   "execution_count": null,
   "metadata": {},
   "outputs": [],
   "source": [
    "# Iterator,Updaterの構成 (学習サイクルなど)\n",
    "batchsize =50\n",
    "\n",
    "train_iter = chainer.iterators.SerialIterator(train, batchsize)\n",
    "test_iter  = chainer.iterators.SerialIterator(test,  batchsize, repeat=False, shuffle=False)\n",
    "updater = training.StandardUpdater(train_iter, optimizer, device=-1)"
   ]
  },
  {
   "cell_type": "code",
   "execution_count": null,
   "metadata": {},
   "outputs": [],
   "source": [
    "# ログの生成と学習の実行\n",
    "epoch = 100\n",
    "\n",
    "trainer = training.Trainer(updater, (epoch, 'epoch'), out='chainer_log/iris/')\n",
    "\n",
    "trainer.extend(extensions.dump_graph('main/loss'))\n",
    "trainer.extend(extensions.Evaluator(test_iter, model, device=-1))\n",
    "trainer.extend(extensions.LogReport(trigger=(1, 'epoch')))\n",
    "trainer.extend(extensions.PrintReport(['epoch', 'main/accuracy', 'validation/main/accuracy', 'main/loss', 'validation/main/loss', 'elapsed_time']), trigger=(1, 'epoch'))\n",
    "trainer.extend(extensions.dump_graph(root_name=\"main/loss\", out_name=\"cg.dot\"))\n",
    "\n",
    "trainer.run()"
   ]
  },
  {
   "cell_type": "code",
   "execution_count": null,
   "metadata": {},
   "outputs": [],
   "source": [
    "# モデル精度の表示(検証データ)\n",
    "print(model.accuracy.data)"
   ]
  },
  {
   "cell_type": "code",
   "execution_count": null,
   "metadata": {},
   "outputs": [],
   "source": [
    "# ロス率の表示(検証データ)\n",
    "print(model.loss.data)"
   ]
  },
  {
   "cell_type": "code",
   "execution_count": null,
   "metadata": {},
   "outputs": [],
   "source": [
    "# モデル精度の可視化\n",
    "%matplotlib inline\n",
    "from pylab import rcParams\n",
    "rcParams['figure.figsize'] = 15,5\n",
    "import json\n",
    "import pandas as pd\n",
    "import matplotlib.pyplot as plt\n",
    "with open('chainer_log/iris/log') as f:\n",
    "    logs = json.load(f)\n",
    "    results = pd.DataFrame(logs)\n",
    "\n",
    "results[['main/accuracy', 'validation/main/accuracy']].plot()\n",
    "results[['main/loss', 'validation/main/loss']].plot()"
   ]
  },
  {
   "cell_type": "code",
   "execution_count": null,
   "metadata": {},
   "outputs": [],
   "source": [
    "# 元データの150件目(X[149])でクラスごとの分類確率を表示[Setosa, Versicolor, Virginica]\n",
    "y = model.predictor(X[[ 149 ]])\n",
    "print (F.softmax(y).data)"
   ]
  },
  {
   "cell_type": "code",
   "execution_count": null,
   "metadata": {},
   "outputs": [],
   "source": [
    "# 元データの150件目(X[149])で分類結果を表示[0=Setosa,1=Versicolor, 2=Virginica]\n",
    "y = model.predictor(X[[ 149 ]])\n",
    "print (F.softmax(y).data.argmax(axis=1))"
   ]
  },
  {
   "cell_type": "code",
   "execution_count": null,
   "metadata": {},
   "outputs": [],
   "source": [
    "# 元データの150件目(Y[149])の正解を表示(0=Setosa,1=Versicolor, 2=Virginica)\n",
    "print ([Y[149]])"
   ]
  },
  {
   "cell_type": "code",
   "execution_count": null,
   "metadata": {},
   "outputs": [],
   "source": [
    "# 参考: 手動で値設定する方法\n",
    "y = model.predictor(np.array([[ 5.9, 3. , 5.1, 1.8 ]]).astype(np.float32))\n",
    "print (F.softmax(y).data.argmax(axis=1))"
   ]
  },
  {
   "cell_type": "code",
   "execution_count": null,
   "metadata": {},
   "outputs": [],
   "source": [
    "# 参考: モデル構造の可視化\n",
    "import pydotplus\n",
    "import matplotlib.pyplot as plt\n",
    "from pylab import rcParams\n",
    "\n",
    "rcParams['figure.figsize'] = 25,30\n",
    "graph = pydotplus.graph_from_dot_file(\"chainer_log/iris/cg.dot\") \n",
    "graph.write_png(\"chainer_log/iris/cg.png\") \n",
    "img = plt.imread(\"chainer_log/iris/cg.png\")\n",
    "plt.imshow(img)\n",
    "plt.show()   "
   ]
  },
  {
   "cell_type": "code",
   "execution_count": null,
   "metadata": {},
   "outputs": [],
   "source": []
  },
  {
   "cell_type": "code",
   "execution_count": null,
   "metadata": {},
   "outputs": [],
   "source": []
  }
 ],
 "metadata": {
  "kernelspec": {
   "display_name": "Python [default]",
   "language": "python",
   "name": "python3"
  },
  "language_info": {
   "codemirror_mode": {
    "name": "ipython",
    "version": 3
   },
   "file_extension": ".py",
   "mimetype": "text/x-python",
   "name": "python",
   "nbconvert_exporter": "python",
   "pygments_lexer": "ipython3",
   "version": "3.5.5"
  }
 },
 "nbformat": 4,
 "nbformat_minor": 2
}
